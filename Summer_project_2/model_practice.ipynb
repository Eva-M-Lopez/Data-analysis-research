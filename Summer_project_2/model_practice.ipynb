{
 "cells": [
  {
   "cell_type": "code",
   "execution_count": null,
   "metadata": {},
   "outputs": [],
   "source": [
    "import pandas as pd\n",
    "import matplotlib.pyplot as plt\n",
    "from mpl_toolkits.mplot3d import Axes3D\n",
    "\n",
    "\n",
    "df = pd.read_csv(\"titanic_data.csv\")\n",
    "#reader"
   ]
  },
  {
   "cell_type": "code",
   "execution_count": null,
   "metadata": {},
   "outputs": [],
   "source": [
    "from sklearn.preprocessing import OneHotEncoder\n",
    "Sex = df['Sex']\n",
    "encoder = OneHotEncoder(sparse_output=False)  # Ensure sparse is set to False\n",
    "Sex_encoded = encoder.fit_transform(Sex.values.reshape(-1, 1))\n",
    "Sex_encoded_df = pd.DataFrame(Sex_encoded, columns=encoder.get_feature_names_out(['Sex']))\n",
    "# Drop the original 'Sex' column and concatenate the new columns\n",
    "df = df.drop(columns='Sex')\n",
    "df = pd.concat([df, Sex_encoded_df], axis=1)"
   ]
  },
  {
   "cell_type": "code",
   "execution_count": null,
   "metadata": {},
   "outputs": [],
   "source": [
    "df = df.dropna()"
   ]
  },
  {
   "cell_type": "code",
   "execution_count": null,
   "metadata": {},
   "outputs": [],
   "source": [
    "\n",
    "X = df.drop(columns=['PassengerId','Survived', 'Name', 'Ticket', 'Cabin', 'Embarked'])\n",
    "y = df['Survived']"
   ]
  },
  {
   "cell_type": "code",
   "execution_count": null,
   "metadata": {},
   "outputs": [],
   "source": [
    "\n",
    "from sklearn.model_selection import train_test_split\n",
    "from sklearn.model_selection import StratifiedShuffleSplit\n",
    "\n",
    "strat_shuff_split = StratifiedShuffleSplit(n_splits=5, test_size=0.2, random_state=42)\n",
    "\n",
    "for train_index, test_index in strat_shuff_split.split(X, y):\n",
    "    X_train, X_test = X.iloc[train_index], X.iloc[test_index]\n",
    "    y_train, y_test = y.iloc[train_index], y.iloc[test_index] \n",
    "    "
   ]
  },
  {
   "cell_type": "code",
   "execution_count": null,
   "metadata": {},
   "outputs": [],
   "source": [
    "from sklearn.metrics import roc_curve\n",
    "from sklearn.metrics import precision_score\n",
    "from sklearn.metrics import f1_score\n",
    "from sklearn.metrics import recall_score\n",
    "from sklearn.metrics import accuracy_score\n",
    "from sklearn.metrics import confusion_matrix\n",
    "#Modifed from stepbystep project\n",
    "\n",
    "#function to fit and print model\n",
    "def fit_and_print(myPipeline, myXTrain, myYTrain, myXTest, myYTest):\n",
    "  myPipeline.fit(myXTrain, myYTrain)\n",
    "  test_preds = myPipeline.predict(myXTest)\n",
    "\n",
    "  print(\"Accuracy: \" + str(accuracy_score(test_preds, myYTest)))\n",
    "  print(\"Precision Score: \" + str(precision_score(test_preds, myYTest)))\n",
    "  print(\"F1 Score: \" + str(f1_score(test_preds, myYTest)))\n",
    "  print(\"Recall Score: \" + str(recall_score(test_preds, myYTest)))\n"
   ]
  },
  {
   "cell_type": "code",
   "execution_count": null,
   "metadata": {},
   "outputs": [],
   "source": [
    "#An imputer was not used here due to the data set not having any null values\n",
    "from sklearn.linear_model import LogisticRegression\n",
    "from sklearn.pipeline import Pipeline\n",
    "from sklearn.preprocessing import StandardScaler\n",
    "#For later use\n",
    "from sklearn.model_selection import GridSearchCV\n",
    "\n",
    "\n",
    "#Preparing, using, and print out graphs and metrics of model\n",
    "log_clf = LogisticRegression(random_state=42, solver='lbfgs')\n",
    "\n",
    "preprocess = Pipeline([\n",
    "    ('scaler', StandardScaler()),\n",
    "    ('classifier', log_clf)\n",
    "])\n",
    "\n",
    "print(\"Logistic Regression:\")\n",
    "\n",
    "fit_and_print(preprocess, X_train, y_train, X_test, y_test)"
   ]
  },
  {
   "cell_type": "code",
   "execution_count": null,
   "metadata": {},
   "outputs": [],
   "source": [
    "from sklearn.ensemble import RandomForestClassifier\n",
    "from sklearn.svm import SVC\n",
    "from sklearn.ensemble import VotingClassifier\n",
    "\n",
    "rnd_clf = RandomForestClassifier(n_estimators=100, random_state=42)\n",
    "\n",
    "#Preparing, using, and print out graphs and metrics of model\n",
    "\n",
    "print(\"Random Forest Classifier:\")\n",
    "fit_and_print(rnd_clf, X_train, y_train, X_test, y_test)\n",
    "\n",
    "prob = rnd_clf.predict_proba(X_test)[:,1]\n"
   ]
  },
  {
   "cell_type": "code",
   "execution_count": null,
   "metadata": {},
   "outputs": [],
   "source": [
    "print(\"Support Vector Classifier:\")\n",
    "\n",
    "#Preparing, using, and print out graphs and metrics of model\n",
    "\n",
    "svc_clf = SVC(gamma='scale', random_state=42)\n",
    "\n",
    "fit_and_print(svc_clf, X_train, y_train, X_test, y_test)\n",
    "\n",
    "prob = svc_clf.decision_function(X_test)"
   ]
  },
  {
   "cell_type": "code",
   "execution_count": null,
   "metadata": {},
   "outputs": [],
   "source": [
    "from sklearn.ensemble import AdaBoostClassifier\n",
    "from sklearn.tree import DecisionTreeClassifier\n",
    "\n",
    "#Preparing, using, and print out graphs and metrics of model\n",
    "\n",
    "ada_clf = AdaBoostClassifier(\n",
    "    DecisionTreeClassifier(max_depth=1), n_estimators=50, learning_rate=0.5, random_state=42\n",
    ")\n",
    "\n",
    "fit_and_print(ada_clf, X_train, y_train, X_test, y_test)\n",
    "\n",
    "prob = ada_clf.decision_function(X_test)"
   ]
  },
  {
   "cell_type": "code",
   "execution_count": 56,
   "metadata": {},
   "outputs": [
    {
     "name": "stdout",
     "output_type": "stream",
     "text": [
      "Accuracy: 0.8108108108108109\n",
      "Precision Score: 0.88\n",
      "F1 Score: 0.8627450980392157\n",
      "Recall Score: 0.8461538461538461\n"
     ]
    }
   ],
   "source": [
    "#Modified from stepbystep\n",
    "from sklearn.model_selection import GridSearchCV\n",
    "\n",
    "#Preparing, using, and print out graphs and metrics of model\n",
    "def rand():\n",
    "    parameter = []\n",
    "    for n in range(10,1000):\n",
    "        if n % 100 == 0:\n",
    "            parameter.append(n)\n",
    "    return parameter\n",
    "\n",
    "grid_search_ada = {\n",
    "    'n_estimators' : rand(),\n",
    "    'learning_rate' : [0.2, 0.4, 0.6]\n",
    "\n",
    "}\n",
    "\n",
    "grid_search_ada_var = GridSearchCV(AdaBoostClassifier(algorithm='SAMME'), grid_search_ada, cv=5, n_jobs=1)\n",
    "\n",
    "fit_and_print(grid_search_ada_var, X_train, y_train, X_test, y_test)\n",
    "\n",
    "prob = grid_search_ada_var.decision_function(X_test)\n"
   ]
  },
  {
   "cell_type": "code",
   "execution_count": 43,
   "metadata": {},
   "outputs": [
    {
     "name": "stdout",
     "output_type": "stream",
     "text": [
      "Gradient Boosting Algorithm:\n",
      "Accuracy: 0.7837837837837838\n",
      "Precision Score: 0.8\n",
      "F1 Score: 0.8333333333333334\n",
      "Recall Score: 0.8695652173913043\n"
     ]
    }
   ],
   "source": [
    "from sklearn.ensemble import GradientBoostingClassifier\n",
    "\n",
    "print(\"Gradient Boosting Algorithm:\")\n",
    "\n",
    "#Preparing, using, and print out graphs and metrics of model\n",
    "\n",
    "# Initialize the grid search\n",
    "gb_clf = GradientBoostingClassifier(n_estimators=100, learning_rate=0.1, max_depth=3, random_state=42)\n",
    "\n",
    "fit_and_print(gb_clf, X_train, y_train, X_test, y_test)\n",
    "\n",
    "prob = svc_clf.decision_function(X_test)"
   ]
  }
 ],
 "metadata": {
  "kernelspec": {
   "display_name": "Python 3",
   "language": "python",
   "name": "python3"
  },
  "language_info": {
   "codemirror_mode": {
    "name": "ipython",
    "version": 3
   },
   "file_extension": ".py",
   "mimetype": "text/x-python",
   "name": "python",
   "nbconvert_exporter": "python",
   "pygments_lexer": "ipython3",
   "version": "3.11.9"
  }
 },
 "nbformat": 4,
 "nbformat_minor": 2
}
