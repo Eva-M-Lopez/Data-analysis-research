{
 "cells": [
  {
   "cell_type": "code",
   "execution_count": 30,
   "metadata": {},
   "outputs": [],
   "source": [
    "import pandas as pd\n",
    "import matplotlib.pyplot as plt\n",
    "from mpl_toolkits.mplot3d import Axes3D\n",
    "\n",
    "\n",
    "df = pd.read_csv(\"titanic_data.csv\")\n",
    "#reader"
   ]
  },
  {
   "cell_type": "code",
   "execution_count": 31,
   "metadata": {},
   "outputs": [],
   "source": [
    "from sklearn.preprocessing import OneHotEncoder\n",
    "Sex = df['Sex']\n",
    "encoder = OneHotEncoder(sparse_output=False)  # Ensure sparse is set to False\n",
    "Sex_encoded = encoder.fit_transform(Sex.values.reshape(-1, 1))\n",
    "Sex_encoded_df = pd.DataFrame(Sex_encoded, columns=encoder.get_feature_names_out(['Sex']))\n",
    "# Drop the original 'Sex' column and concatenate the new columns\n",
    "df = df.drop(columns='Sex')\n",
    "df = pd.concat([df, Sex_encoded_df], axis=1)"
   ]
  },
  {
   "cell_type": "code",
   "execution_count": 32,
   "metadata": {},
   "outputs": [],
   "source": [
    "df = df.dropna()"
   ]
  },
  {
   "cell_type": "code",
   "execution_count": 33,
   "metadata": {},
   "outputs": [],
   "source": [
    "\n",
    "X = df.drop(columns=['PassengerId','Survived', 'Name', 'Ticket', 'Cabin', 'Embarked'])\n",
    "y = df['Survived']"
   ]
  },
  {
   "cell_type": "code",
   "execution_count": 34,
   "metadata": {},
   "outputs": [],
   "source": [
    "\n",
    "from sklearn.model_selection import train_test_split\n",
    "from sklearn.model_selection import StratifiedShuffleSplit\n",
    "\n",
    "strat_shuff_split = StratifiedShuffleSplit(n_splits=5, test_size=0.2, random_state=42)\n",
    "\n",
    "for train_index, test_index in strat_shuff_split.split(X, y):\n",
    "    X_train, X_test = X.iloc[train_index], X.iloc[test_index]\n",
    "    y_train, y_test = y.iloc[train_index], y.iloc[test_index] \n",
    "    "
   ]
  },
  {
   "cell_type": "code",
   "execution_count": 35,
   "metadata": {},
   "outputs": [],
   "source": [
    "from sklearn.metrics import roc_curve\n",
    "from sklearn.metrics import precision_score\n",
    "from sklearn.metrics import f1_score\n",
    "from sklearn.metrics import recall_score\n",
    "from sklearn.metrics import accuracy_score\n",
    "from sklearn.metrics import confusion_matrix\n",
    "#Modifed from stepbystep project\n",
    "\n",
    "#function to fit and print model\n",
    "def fit_and_print(myPipeline, myXTrain, myYTrain, myXTest, myYTest):\n",
    "  myPipeline.fit(myXTrain, myYTrain)\n",
    "  test_preds = myPipeline.predict(myXTest)\n",
    "\n",
    "  print(\"Accuracy: \" + str(accuracy_score(test_preds, myYTest)))\n",
    "  print(\"Precision Score: \" + str(precision_score(test_preds, myYTest)))\n",
    "  print(\"F1 Score: \" + str(f1_score(test_preds, myYTest)))\n",
    "  print(\"Recall Score: \" + str(recall_score(test_preds, myYTest)))\n"
   ]
  },
  {
   "cell_type": "code",
   "execution_count": 36,
   "metadata": {},
   "outputs": [
    {
     "name": "stdout",
     "output_type": "stream",
     "text": [
      "Logistic Regression:\n",
      "Accuracy: 0.7567567567567568\n",
      "Precision Score: 0.8\n",
      "F1 Score: 0.8163265306122449\n",
      "Recall Score: 0.8333333333333334\n"
     ]
    }
   ],
   "source": [
    "#An imputer was not used here due to the data set not having any null values\n",
    "from sklearn.linear_model import LogisticRegression\n",
    "from sklearn.pipeline import Pipeline\n",
    "from sklearn.preprocessing import StandardScaler\n",
    "#For later use\n",
    "from sklearn.model_selection import GridSearchCV\n",
    "\n",
    "\n",
    "#Preparing, using, and print out graphs and metrics of model\n",
    "log_clf = LogisticRegression(random_state=42, solver='lbfgs')\n",
    "\n",
    "preprocess = Pipeline([\n",
    "    ('scaler', StandardScaler()),\n",
    "    ('classifier', log_clf)\n",
    "])\n",
    "\n",
    "print(\"Logistic Regression:\")\n",
    "\n",
    "fit_and_print(preprocess, X_train, y_train, X_test, y_test)"
   ]
  }
 ],
 "metadata": {
  "kernelspec": {
   "display_name": "Python 3",
   "language": "python",
   "name": "python3"
  },
  "language_info": {
   "codemirror_mode": {
    "name": "ipython",
    "version": 3
   },
   "file_extension": ".py",
   "mimetype": "text/x-python",
   "name": "python",
   "nbconvert_exporter": "python",
   "pygments_lexer": "ipython3",
   "version": "3.11.9"
  }
 },
 "nbformat": 4,
 "nbformat_minor": 2
}
